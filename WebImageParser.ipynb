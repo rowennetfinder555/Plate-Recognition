{
 "cells": [
  {
   "cell_type": "code",
   "execution_count": 1,
   "metadata": {},
   "outputs": [],
   "source": [
    "import os"
   ]
  },
  {
   "cell_type": "code",
   "execution_count": 2,
   "metadata": {},
   "outputs": [],
   "source": [
    "import urllib.request as ulib\n",
    "from bs4 import BeautifulSoup as Soup\n",
    "import json"
   ]
  },
  {
   "cell_type": "code",
   "execution_count": 3,
   "metadata": {},
   "outputs": [],
   "source": [
    "url_a = 'https://www.google.com/search?hl=en&tbm=isch&source=hp&biw=968&bih=976&ei=WvNVW6_rJYOb_QaqzYSIAg&q={}'\n",
    "url_b = '&oq={}'\n",
    "url_c = '&gs_l=img.3..0j0i24k1l3.2393.16859.0.17181.43.29.9.5.5.0.210.2956.3j23j1.27.0....0...1ac.1.64.img..2.40.2893...0i8i30k1.0.GIKo-41jTK8'\n",
    "url_base = ''.join((url_a, url_b, url_c))\n"
   ]
  },
  {
   "cell_type": "code",
   "execution_count": null,
   "metadata": {},
   "outputs": [],
   "source": [
    "search_name = 'california dmv plates'\n",
    "search_name = search_name.replace(' ', '+')\n",
    "url = url_base.format(search_name, search_name)\n",
    "    \n",
    "print(url)"
   ]
  },
  {
   "cell_type": "code",
   "execution_count": 10,
   "metadata": {},
   "outputs": [],
   "source": [
    "headers = {'User-Agent': 'Mozilla/5.0 (X11; Linux x86_64) AppleWebKit/537.11 (KHTML, like Gecko) Chrome/23.0.1271.64 Safari/537.11',\n",
    "       'Accept': 'text/html,application/xhtml+xml,application/xml;q=0.9,*/*;q=0.8',\n",
    "       'Accept-Charset': 'ISO-8859-1,utf-8;q=0.7,*;q=0.3',\n",
    "       'Accept-Encoding': 'none',\n",
    "       'Accept-Language': 'en-US,en;q=0.8',\n",
    "       'Connection': 'keep-alive'}"
   ]
  },
  {
   "cell_type": "code",
   "execution_count": 11,
   "metadata": {},
   "outputs": [],
   "source": [
    "def get_links(search_name):\n",
    "    search_name = search_name.replace(' ', '+')\n",
    "    url = url_base.format(search_name, search_name)\n",
    "    request = ulib.Request(url)\n",
    "    json_string = ulib.urlopen(request).read()\n",
    "    page = json.loads(json_string)\n",
    "    new_soup = Soup(page[1][1], 'lxml')\n",
    "    images = new_soup.find_all('img')\n",
    "    links = [image['src'] for image in images]\n",
    "    return links\n",
    "\n",
    "\n"
   ]
  },
  {
   "cell_type": "code",
   "execution_count": 12,
   "metadata": {},
   "outputs": [],
   "source": [
    "def save_images(links, search_name):\n",
    "    directory = search_name.replace(' ', '_')\n",
    "    if not os.path.isdir(directory):\n",
    "        os.mkdir(directory)\n",
    "\n",
    "    for i, link in enumerate(links):\n",
    "        savepath = os.path.join(directory, '{:06}.png'.format(i))\n",
    "        ulib.urlretrieve(link, savepath)\n",
    "\n"
   ]
  },
  {
   "cell_type": "code",
   "execution_count": null,
   "metadata": {},
   "outputs": [],
   "source": [
    "\n",
    "if __name__ == '__main__':\n",
    "    search_name = 'california license plates'\n",
    "    links = get_links(search_name)\n",
    "    save_images(links, search_name)"
   ]
  },
  {
   "cell_type": "code",
   "execution_count": null,
   "metadata": {},
   "outputs": [],
   "source": []
  }
 ],
 "metadata": {
  "kernelspec": {
   "display_name": "Python 3",
   "language": "python",
   "name": "python3"
  },
  "language_info": {
   "codemirror_mode": {
    "name": "ipython",
    "version": 3
   },
   "file_extension": ".py",
   "mimetype": "text/x-python",
   "name": "python",
   "nbconvert_exporter": "python",
   "pygments_lexer": "ipython3",
   "version": "3.6.4"
  }
 },
 "nbformat": 4,
 "nbformat_minor": 2
}
